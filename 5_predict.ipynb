{
 "cells": [
  {
   "cell_type": "markdown",
   "id": "5fc508e1",
   "metadata": {},
   "source": [
    "# Predict TVC from the gridded Sv MBES data, using linear regression models\n",
    "This notebook executes the following steps:\n",
    "* For each grid file:\n",
    "    * Load model files\n",
    "    * For each linear regression model:\n",
    "        * Predict the `y_dimension` for each grid cell\n",
    "    * Save the predicted grid to a netcdf file"
   ]
  },
  {
   "cell_type": "code",
   "execution_count": 1,
   "id": "307e1568-438c-4a1b-8bd9-f007d0ac03fd",
   "metadata": {},
   "outputs": [],
   "source": [
    "import os\n",
    "from glob import glob\n",
    "from timbers_code.extract_and_model import predict_raster_from_model\n",
    "from timbers_code.utils import create_folder_if_absent"
   ]
  },
  {
   "cell_type": "markdown",
   "id": "c56f936b-355a-4ae5-8296-ceef35c24482",
   "metadata": {},
   "source": [
    "## Set the parameters\n",
    "* raster_files: netCDF files of gridded Sv MBES data to use for prediction\n",
    "* model_files: linear regression model files to apply\n",
    "* x_dimension: variable name of the grid file to be used as independent variable in the prediction\n",
    "* exp_y_dimension: whether the dependent variable should be exponentiated (base 10) after prediction\n",
    "* stack_coords: the xyz coordinates of the grids\n",
    "* output_raster_path: the path where the netCDF files of the predicted grids should be saved"
   ]
  },
  {
   "cell_type": "code",
   "execution_count": 2,
   "id": "671ed555-e5bb-4d3d-ab4c-4b6bce3de9f2",
   "metadata": {},
   "outputs": [],
   "source": [
    "# data input\n",
    "raster_files = glob('data/gridding/grid_*.nc')\n",
    "model_files = glob('data/models/*.joblib')\n",
    "# input parameters\n",
    "x_dimension = 'mean_value_db'\n",
    "exp_y_dimension = True\n",
    "stack_coords = (\"x\",\"y\",\"z\")\n",
    "# data output\n",
    "output_raster_path = 'G:/Algorithm2/predictions_final'"
   ]
  },
  {
   "cell_type": "markdown",
   "id": "c7ae62fe-cd08-4393-ac66-85828ef5e053",
   "metadata": {},
   "source": [
    "# Raster predictions"
   ]
  },
  {
   "cell_type": "code",
   "execution_count": 3,
   "id": "8a8f241f-c18d-409a-80e0-a6c974984604",
   "metadata": {},
   "outputs": [
    {
     "name": "stdout",
     "output_type": "stream",
     "text": [
      "Wall time: 44min 29s\n"
     ]
    },
    {
     "data": {
      "text/plain": [
       "['G:/Algorithm2/predictions_final/grid_Multiingest_0095_6565_20690/grid_Multiingest_0095_6565_20690_mean_value_db_TVC_(200.0,_420.0].nc',\n",
       " 'G:/Algorithm2/predictions_final/grid_Multiingest_0095_6565_20690/grid_Multiingest_0095_6565_20690_mean_value_db_Average_of_Turbidity_NTU.nc',\n",
       " 'G:/Algorithm2/predictions_final/grid_Multiingest_0095_6565_20690/grid_Multiingest_0095_6565_20690_mean_value_db_Total_Volume_Concentration_[ppm].nc',\n",
       " 'G:/Algorithm2/predictions_final/grid_Multiingest_0095_6565_20690/grid_Multiingest_0095_6565_20690_mean_value_db_TVC_(0.0,_3.0].nc',\n",
       " 'G:/Algorithm2/predictions_final/grid_Multiingest_0095_6565_20690/grid_Multiingest_0095_6565_20690_mean_value_db_TVC_(3.0,_20.0].nc',\n",
       " 'G:/Algorithm2/predictions_final/grid_Multiingest_0095_6565_20690/grid_Multiingest_0095_6565_20690_mean_value_db_TVC_(20.0,_200.0].nc',\n",
       " 'G:/Algorithm2/predictions_final/grid_Multiingest_0095_6565_21092/grid_Multiingest_0095_6565_21092_mean_value_db_TVC_(200.0,_420.0].nc',\n",
       " 'G:/Algorithm2/predictions_final/grid_Multiingest_0095_6565_21092/grid_Multiingest_0095_6565_21092_mean_value_db_Average_of_Turbidity_NTU.nc',\n",
       " 'G:/Algorithm2/predictions_final/grid_Multiingest_0095_6565_21092/grid_Multiingest_0095_6565_21092_mean_value_db_Total_Volume_Concentration_[ppm].nc',\n",
       " 'G:/Algorithm2/predictions_final/grid_Multiingest_0095_6565_21092/grid_Multiingest_0095_6565_21092_mean_value_db_TVC_(0.0,_3.0].nc',\n",
       " 'G:/Algorithm2/predictions_final/grid_Multiingest_0095_6565_21092/grid_Multiingest_0095_6565_21092_mean_value_db_TVC_(3.0,_20.0].nc',\n",
       " 'G:/Algorithm2/predictions_final/grid_Multiingest_0095_6565_21092/grid_Multiingest_0095_6565_21092_mean_value_db_TVC_(20.0,_200.0].nc',\n",
       " 'G:/Algorithm2/predictions_final/grid_Multiingest_0095_6565_21160/grid_Multiingest_0095_6565_21160_mean_value_db_TVC_(200.0,_420.0].nc',\n",
       " 'G:/Algorithm2/predictions_final/grid_Multiingest_0095_6565_21160/grid_Multiingest_0095_6565_21160_mean_value_db_Average_of_Turbidity_NTU.nc',\n",
       " 'G:/Algorithm2/predictions_final/grid_Multiingest_0095_6565_21160/grid_Multiingest_0095_6565_21160_mean_value_db_Total_Volume_Concentration_[ppm].nc',\n",
       " 'G:/Algorithm2/predictions_final/grid_Multiingest_0095_6565_21160/grid_Multiingest_0095_6565_21160_mean_value_db_TVC_(0.0,_3.0].nc',\n",
       " 'G:/Algorithm2/predictions_final/grid_Multiingest_0095_6565_21160/grid_Multiingest_0095_6565_21160_mean_value_db_TVC_(3.0,_20.0].nc',\n",
       " 'G:/Algorithm2/predictions_final/grid_Multiingest_0095_6565_21160/grid_Multiingest_0095_6565_21160_mean_value_db_TVC_(20.0,_200.0].nc',\n",
       " 'G:/Algorithm2/predictions_final/grid_Multiingest_0095_6565_21430/grid_Multiingest_0095_6565_21430_mean_value_db_TVC_(200.0,_420.0].nc',\n",
       " 'G:/Algorithm2/predictions_final/grid_Multiingest_0095_6565_21430/grid_Multiingest_0095_6565_21430_mean_value_db_Average_of_Turbidity_NTU.nc',\n",
       " 'G:/Algorithm2/predictions_final/grid_Multiingest_0095_6565_21430/grid_Multiingest_0095_6565_21430_mean_value_db_Total_Volume_Concentration_[ppm].nc',\n",
       " 'G:/Algorithm2/predictions_final/grid_Multiingest_0095_6565_21430/grid_Multiingest_0095_6565_21430_mean_value_db_TVC_(0.0,_3.0].nc',\n",
       " 'G:/Algorithm2/predictions_final/grid_Multiingest_0095_6565_21430/grid_Multiingest_0095_6565_21430_mean_value_db_TVC_(3.0,_20.0].nc',\n",
       " 'G:/Algorithm2/predictions_final/grid_Multiingest_0095_6565_21430/grid_Multiingest_0095_6565_21430_mean_value_db_TVC_(20.0,_200.0].nc',\n",
       " 'G:/Algorithm2/predictions_final/grid_Multiingest_0095_6565_KW_21550/grid_Multiingest_0095_6565_KW_21550_mean_value_db_TVC_(200.0,_420.0].nc',\n",
       " 'G:/Algorithm2/predictions_final/grid_Multiingest_0095_6565_KW_21550/grid_Multiingest_0095_6565_KW_21550_mean_value_db_Average_of_Turbidity_NTU.nc',\n",
       " 'G:/Algorithm2/predictions_final/grid_Multiingest_0095_6565_KW_21550/grid_Multiingest_0095_6565_KW_21550_mean_value_db_Total_Volume_Concentration_[ppm].nc',\n",
       " 'G:/Algorithm2/predictions_final/grid_Multiingest_0095_6565_KW_21550/grid_Multiingest_0095_6565_KW_21550_mean_value_db_TVC_(0.0,_3.0].nc',\n",
       " 'G:/Algorithm2/predictions_final/grid_Multiingest_0095_6565_KW_21550/grid_Multiingest_0095_6565_KW_21550_mean_value_db_TVC_(3.0,_20.0].nc',\n",
       " 'G:/Algorithm2/predictions_final/grid_Multiingest_0095_6565_KW_21550/grid_Multiingest_0095_6565_KW_21550_mean_value_db_TVC_(20.0,_200.0].nc',\n",
       " 'G:/Algorithm2/predictions_final/grid_Multiingest_0095_6565_WD_21550/grid_Multiingest_0095_6565_WD_21550_mean_value_db_TVC_(200.0,_420.0].nc',\n",
       " 'G:/Algorithm2/predictions_final/grid_Multiingest_0095_6565_WD_21550/grid_Multiingest_0095_6565_WD_21550_mean_value_db_Average_of_Turbidity_NTU.nc',\n",
       " 'G:/Algorithm2/predictions_final/grid_Multiingest_0095_6565_WD_21550/grid_Multiingest_0095_6565_WD_21550_mean_value_db_Total_Volume_Concentration_[ppm].nc',\n",
       " 'G:/Algorithm2/predictions_final/grid_Multiingest_0095_6565_WD_21550/grid_Multiingest_0095_6565_WD_21550_mean_value_db_TVC_(0.0,_3.0].nc',\n",
       " 'G:/Algorithm2/predictions_final/grid_Multiingest_0095_6565_WD_21550/grid_Multiingest_0095_6565_WD_21550_mean_value_db_TVC_(3.0,_20.0].nc',\n",
       " 'G:/Algorithm2/predictions_final/grid_Multiingest_0095_6565_WD_21550/grid_Multiingest_0095_6565_WD_21550_mean_value_db_TVC_(20.0,_200.0].nc']"
      ]
     },
     "execution_count": 3,
     "metadata": {},
     "output_type": "execute_result"
    }
   ],
   "source": [
    "%%time\n",
    "output_files = []\n",
    "for raster_file in raster_files:\n",
    "    output_raster_path_for_raster_file = f'{output_raster_path}/{os.path.splitext(os.path.basename(raster_file))[0].replace(\"_\"+x_dimension,\"\")}'\n",
    "    create_folder_if_absent(output_raster_path_for_raster_file)\n",
    "    for model_file in model_files:\n",
    "        output_file = predict_raster_from_model(raster_file = raster_file,\n",
    "                                  model_file = model_file,\n",
    "                                  output_raster_path = output_raster_path_for_raster_file,\n",
    "                                  x_dimension = x_dimension,\n",
    "                                  exp_y_dimension = exp_y_dimension,\n",
    "                                  stack_coords = stack_coords)\n",
    "        output_files.append(output_file)\n",
    "output_files"
   ]
  }
 ],
 "metadata": {
  "kernelspec": {
   "display_name": "Python 3 (ipykernel)",
   "language": "python",
   "name": "python3"
  },
  "language_info": {
   "codemirror_mode": {
    "name": "ipython",
    "version": 3
   },
   "file_extension": ".py",
   "mimetype": "text/x-python",
   "name": "python",
   "nbconvert_exporter": "python",
   "pygments_lexer": "ipython3",
   "version": "3.9.7"
  }
 },
 "nbformat": 4,
 "nbformat_minor": 5
}
