{
 "cells": [
  {
   "cell_type": "markdown",
   "id": "52753700-bcad-43bc-a1cd-9e8904c04d08",
   "metadata": {},
   "source": [
    "# Conversion of the volume to mass concentrations\n",
    "This notebook executes the following steps:\n",
    "* Calculate a theoretical apparent densities for the LISST-200X size classes using the formula from Fall et al. 2021. \n",
    "* Average the densities of the different size classes to match the grain size populations\n",
    "* Convert the predicted TVC grids to Suspended Particulate Matter Concentration (SPMC) grids.\n",
    "* Saves the SPMC grids to netCDF files"
   ]
  },
  {
   "cell_type": "code",
   "execution_count": 5,
   "id": "73904840-b128-40a9-b6b1-caca1b109431",
   "metadata": {},
   "outputs": [],
   "source": [
    "import pandas as pd\n",
    "import numpy as np\n",
    "import matplotlib.pyplot as plt\n",
    "from matplotlib import rc\n",
    "rc(\"pdf\", fonttype=42)\n",
    "from timbers_code.grainsize import get_assemblage_apparent_density\n",
    "from glob import glob\n",
    "import os\n",
    "import xarray as xr"
   ]
  },
  {
   "cell_type": "markdown",
   "id": "3147a937",
   "metadata": {},
   "source": [
    "## Set the parameters\n",
    "* lisst_size_classes: path to the file that defines the size classes. From LISST-200X Manual\n",
    "* d_p: the primary particle size in µm, below which rho_a = 2500 kg/m3 (Fettweis et al., 2008)\n",
    "* d_p_li: lower interval of primary particle size in µm for Kwinte study area (Fettweis et al., 2008)\n",
    "* d_p_ui: upper interval of primary particle size in µm for Kwinte study area (Fettweis et al., 2008) \n",
    "* F: Fractal Dimension (Fettweis et al., 2021) \n",
    "* F_li: Fractal Dimension, lower interval for Kwinte study area (Fettweis personal communication) \n",
    "* F_ui: Fractal Dimension, upper interval for Kwinte study area (Fettweis personal communication) \n",
    "* rho_p: primary particle density in kg/m3 (Fettweis et al., 2008)\n",
    "* raster_path: path where output netCDF files will be stored\n",
    "* raster_files: netCDF files of predicted TVC data\n",
    "* bin_boundaries: list of grain size boundaries used to calculate TVC for different grain size populations\n",
    "* variable_schema: mapping of which which TVC variables (in each of the netCDF files for the different grain size populations/assemblages) should be used to calculate the SPMC variables\n",
    "* filepath_apparent_densities_plot: file to save the plot of the apparent densities"
   ]
  },
  {
   "cell_type": "code",
   "execution_count": 7,
   "id": "d01c5fdd-bd80-4d7d-a1f5-7c85ee72d09f",
   "metadata": {},
   "outputs": [],
   "source": [
    "# input files\n",
    "lisst_size_classes = 'sensor_data/lisst_size_classes.csv'\n",
    "# input parameters\n",
    "d_p = 2 #µm, the primary particle size, below which rho_a = 2500 kg/m3 (Fettweis et al., 2008)\n",
    "d_p_li = 1 #µm,lower interval of primary particle size for Kwinte study area (Fettweis et al., 2008)\n",
    "d_p_ui = 3 #µm, upper interval of primary particle size for Kwinte study area (Fettweis et al., 2008) \n",
    "F = 2 # Fractal Dimension (Fettweis et al., 2021) \n",
    "F_li = 1.9 # Fractal Dimension, lower interval for Kwinte study area (Fettweis personal communication) \n",
    "F_ui = 2.1 # Fractal Dimension, upper interval for Kwinte study area (Fettweis personal communication) \n",
    "# F_li = 2.04 # Fractal Dimension, lower interval for Kwinte study area (Fettweis et al., 2008) \n",
    "# F_ui = 2.12 # Fractal Dimension, upper interval for Kwinte study area (Fettweis et al., 2008) \n",
    "rho_p = 2500 #kg/m3 (Fettweis et al., 2008)\n",
    "# get predicted raster files\n",
    "raster_path = 'G:/Algorithm2/predictions_final'\n",
    "raster_files = glob(f'{raster_path}/*/*TVC*.nc') + glob(f'{raster_path}/*/*Total_Volume_Concentration*.nc')\n",
    "## For size classes based on Fetweiss et al 2014\n",
    "# bin_boundaries = np.array([15.,200.]) #assemblage boundaries\n",
    "# variable_schema = pd.DataFrame({'SPMC_mean': ['TVC_(0.0,_15.0]_mean','TVC_(15.0,_200.0]_mean','TVC_(200.0,_459.0]_mean','Total_Volume_Concentration_[ppm]_mean'],\n",
    "#                                  'SPMC_ci_lower':['TVC_(0.0,_15.0]_obs_ci_lower','TVC_(15.0,_200.0]_obs_ci_lower','TVC_(200.0,_459.0]_obs_ci_lower','Total_Volume_Concentration_[ppm]_obs_ci_lower'],\n",
    "#                                  'SPMC_ci_upper':['TVC_(0.0,_15.0]_obs_ci_upper','TVC_(15.0,_200.0]_obs_ci_upper','TVC_(200.0,_459.0]_obs_ci_upper','Total_Volume_Concentration_[ppm]_obs_ci_upper']},\n",
    "#                                 index = pd.Series(['(0.0, 15.0]', '(15.0, 200.0]', '(200.0, 459.0]','(0.0, 459.0]']).rename('Assemblage'))\n",
    "## For size classes based on Lee et al 2012\n",
    "bin_boundaries = np.array([3.,20.,200.]) #assemblage boundaries\n",
    "variable_schema = pd.DataFrame({'SPMC_mean': ['TVC_(0.0,_3.0]_mean','TVC_(3.0,_20.0]_mean','TVC_(20.0,_200.0]_mean','TVC_(200.0,_420.0]_mean','Total_Volume_Concentration_[ppm]_mean'],\n",
    "                                 'SPMC_ci_lower':['TVC_(0.0,_3.0]_obs_ci_lower','TVC_(3.0,_20.0]_obs_ci_lower','TVC_(20.0,_200.0]_obs_ci_lower','TVC_(200.0,_420.0]_obs_ci_lower','Total_Volume_Concentration_[ppm]_obs_ci_lower'],\n",
    "                                 'SPMC_ci_upper':['TVC_(0.0,_3.0]_obs_ci_upper','TVC_(3.0,_20.0]_obs_ci_upper','TVC_(20.0,_200.0]_obs_ci_upper','TVC_(200.0,_420.0]_obs_ci_upper','Total_Volume_Concentration_[ppm]_obs_ci_upper']},\n",
    "                                index = pd.Series(['(0.0, 3.0]','(3.0, 20.0]','(20.0, 200.0]', '(200.0, 459.0]','(0.0, 459.0]']).rename('Assemblage'))\n",
    "# output files\n",
    "filepath_apparent_densities_plot = 'publication_output/apparent_densities.pdf'"
   ]
  },
  {
   "cell_type": "code",
   "execution_count": null,
   "id": "ab8b1352-7210-4019-ae0c-1adabe732ff9",
   "metadata": {},
   "outputs": [
    {
     "data": {
      "text/html": [
       "<div>\n",
       "<style scoped>\n",
       "    .dataframe tbody tr th:only-of-type {\n",
       "        vertical-align: middle;\n",
       "    }\n",
       "\n",
       "    .dataframe tbody tr th {\n",
       "        vertical-align: top;\n",
       "    }\n",
       "\n",
       "    .dataframe thead th {\n",
       "        text-align: right;\n",
       "    }\n",
       "</style>\n",
       "<table border=\"1\" class=\"dataframe\">\n",
       "  <thead>\n",
       "    <tr style=\"text-align: right;\">\n",
       "      <th></th>\n",
       "      <th>SPMC_mean</th>\n",
       "      <th>SPMC_ci_lower</th>\n",
       "      <th>SPMC_ci_upper</th>\n",
       "    </tr>\n",
       "    <tr>\n",
       "      <th>Assemblage</th>\n",
       "      <th></th>\n",
       "      <th></th>\n",
       "      <th></th>\n",
       "    </tr>\n",
       "  </thead>\n",
       "  <tbody>\n",
       "    <tr>\n",
       "      <th>(0.0, 3.0]</th>\n",
       "      <td>TVC_(0.0,_3.0]_mean</td>\n",
       "      <td>TVC_(0.0,_3.0]_obs_ci_lower</td>\n",
       "      <td>TVC_(0.0,_3.0]_obs_ci_upper</td>\n",
       "    </tr>\n",
       "    <tr>\n",
       "      <th>(3.0, 20.0]</th>\n",
       "      <td>TVC_(3.0,_20.0]_mean</td>\n",
       "      <td>TVC_(3.0,_20.0]_obs_ci_lower</td>\n",
       "      <td>TVC_(3.0,_20.0]_obs_ci_upper</td>\n",
       "    </tr>\n",
       "    <tr>\n",
       "      <th>(20.0, 200.0]</th>\n",
       "      <td>TVC_(20.0,_200.0]_mean</td>\n",
       "      <td>TVC_(20.0,_200.0]_obs_ci_lower</td>\n",
       "      <td>TVC_(20.0,_200.0]_obs_ci_upper</td>\n",
       "    </tr>\n",
       "    <tr>\n",
       "      <th>(200.0, 459.0]</th>\n",
       "      <td>TVC_(200.0,_420.0]_mean</td>\n",
       "      <td>TVC_(200.0,_420.0]_obs_ci_lower</td>\n",
       "      <td>TVC_(200.0,_420.0]_obs_ci_upper</td>\n",
       "    </tr>\n",
       "    <tr>\n",
       "      <th>(0.0, 459.0]</th>\n",
       "      <td>Total_Volume_Concentration_[ppm]_mean</td>\n",
       "      <td>Total_Volume_Concentration_[ppm]_obs_ci_lower</td>\n",
       "      <td>Total_Volume_Concentration_[ppm]_obs_ci_upper</td>\n",
       "    </tr>\n",
       "  </tbody>\n",
       "</table>\n",
       "</div>"
      ],
      "text/plain": [
       "                                            SPMC_mean  \\\n",
       "Assemblage                                              \n",
       "(0.0, 3.0]                        TVC_(0.0,_3.0]_mean   \n",
       "(3.0, 20.0]                      TVC_(3.0,_20.0]_mean   \n",
       "(20.0, 200.0]                  TVC_(20.0,_200.0]_mean   \n",
       "(200.0, 459.0]                TVC_(200.0,_420.0]_mean   \n",
       "(0.0, 459.0]    Total_Volume_Concentration_[ppm]_mean   \n",
       "\n",
       "                                                SPMC_ci_lower  \\\n",
       "Assemblage                                                      \n",
       "(0.0, 3.0]                        TVC_(0.0,_3.0]_obs_ci_lower   \n",
       "(3.0, 20.0]                      TVC_(3.0,_20.0]_obs_ci_lower   \n",
       "(20.0, 200.0]                  TVC_(20.0,_200.0]_obs_ci_lower   \n",
       "(200.0, 459.0]                TVC_(200.0,_420.0]_obs_ci_lower   \n",
       "(0.0, 459.0]    Total_Volume_Concentration_[ppm]_obs_ci_lower   \n",
       "\n",
       "                                                SPMC_ci_upper  \n",
       "Assemblage                                                     \n",
       "(0.0, 3.0]                        TVC_(0.0,_3.0]_obs_ci_upper  \n",
       "(3.0, 20.0]                      TVC_(3.0,_20.0]_obs_ci_upper  \n",
       "(20.0, 200.0]                  TVC_(20.0,_200.0]_obs_ci_upper  \n",
       "(200.0, 459.0]                TVC_(200.0,_420.0]_obs_ci_upper  \n",
       "(0.0, 459.0]    Total_Volume_Concentration_[ppm]_obs_ci_upper  "
      ]
     },
     "execution_count": 3,
     "metadata": {},
     "output_type": "execute_result"
    }
   ],
   "source": [
    "variable_schema"
   ]
  },
  {
   "cell_type": "markdown",
   "id": "d3e2d2ca-c06a-4ff5-90f0-16299a745e06",
   "metadata": {},
   "source": [
    "## Read in size classes, exported from the LISST manual"
   ]
  },
  {
   "cell_type": "code",
   "execution_count": 4,
   "id": "a3c12ace-5fd5-4f43-870a-7845b0c4fe55",
   "metadata": {},
   "outputs": [],
   "source": [
    "size_classes = pd.read_csv(lisst_size_classes)\n",
    "size_classes = size_classes.set_index('Size_bin')"
   ]
  },
  {
   "cell_type": "markdown",
   "id": "1796f2dc",
   "metadata": {},
   "source": [
    "## Calculate the apparent densities"
   ]
  },
  {
   "cell_type": "code",
   "execution_count": 8,
   "id": "0cbabad9-1748-4484-8fc4-cc04eab0d5d0",
   "metadata": {
    "tags": []
   },
   "outputs": [
    {
     "data": {
      "image/png": "[encoded data removed]",
      "text/plain": [
       "<Figure size 720x720 with 1 Axes>"
      ]
     },
     "metadata": {
      "needs_background": "light"
     },
     "output_type": "display_data"
    }
   ],
   "source": [
    "apparent_densities = get_assemblage_apparent_density(size_classes = size_classes.Median, bin_boundaries = bin_boundaries,\n",
    "                                rho_p=rho_p, d_p=d_p, d_p_li=d_p_li,d_p_ui=d_p_ui,\n",
    "                                F=F, F_li=F_li, F_ui=F_ui,plot=True)\n",
    "plt.savefig(filepath_apparent_densities_plot, bbox_inches = 'tight')"
   ]
  },
  {
   "cell_type": "markdown",
   "id": "074e8ee4-0b66-420d-9c6d-5c147eccb9dc",
   "metadata": {},
   "source": [
    "# Merge the average apparent densities for each grain size population on the variable schema"
   ]
  },
  {
   "cell_type": "code",
   "execution_count": 6,
   "id": "14654d46-0527-44fe-8a1e-666bb2214713",
   "metadata": {},
   "outputs": [
    {
     "data": {
      "text/html": [
       "<div>\n",
       "<style scoped>\n",
       "    .dataframe tbody tr th:only-of-type {\n",
       "        vertical-align: middle;\n",
       "    }\n",
       "\n",
       "    .dataframe tbody tr th {\n",
       "        vertical-align: top;\n",
       "    }\n",
       "\n",
       "    .dataframe thead th {\n",
       "        text-align: right;\n",
       "    }\n",
       "</style>\n",
       "<table border=\"1\" class=\"dataframe\">\n",
       "  <thead>\n",
       "    <tr style=\"text-align: right;\">\n",
       "      <th></th>\n",
       "      <th>rho_a</th>\n",
       "      <th>rho_a_li</th>\n",
       "      <th>rho_a_ui</th>\n",
       "      <th>SPMC_mean</th>\n",
       "      <th>SPMC_ci_lower</th>\n",
       "      <th>SPMC_ci_upper</th>\n",
       "    </tr>\n",
       "    <tr>\n",
       "      <th>Assemblage</th>\n",
       "      <th></th>\n",
       "      <th></th>\n",
       "      <th></th>\n",
       "      <th></th>\n",
       "      <th></th>\n",
       "      <th></th>\n",
       "    </tr>\n",
       "  </thead>\n",
       "  <tbody>\n",
       "    <tr>\n",
       "      <th>(0.0, 3.0]</th>\n",
       "      <td>2328.658630</td>\n",
       "      <td>1000.332554</td>\n",
       "      <td>3174.833405</td>\n",
       "      <td>TVC_(0.0,_3.0]_mean</td>\n",
       "      <td>TVC_(0.0,_3.0]_obs_ci_lower</td>\n",
       "      <td>TVC_(0.0,_3.0]_obs_ci_upper</td>\n",
       "    </tr>\n",
       "    <tr>\n",
       "      <th>(3.0, 20.0]</th>\n",
       "      <td>757.798133</td>\n",
       "      <td>318.871040</td>\n",
       "      <td>1213.433144</td>\n",
       "      <td>TVC_(3.0,_20.0]_mean</td>\n",
       "      <td>TVC_(3.0,_20.0]_obs_ci_lower</td>\n",
       "      <td>TVC_(3.0,_20.0]_obs_ci_upper</td>\n",
       "    </tr>\n",
       "    <tr>\n",
       "      <th>(20.0, 200.0]</th>\n",
       "      <td>93.086999</td>\n",
       "      <td>31.924500</td>\n",
       "      <td>183.024290</td>\n",
       "      <td>TVC_(20.0,_200.0]_mean</td>\n",
       "      <td>TVC_(20.0,_200.0]_obs_ci_lower</td>\n",
       "      <td>TVC_(20.0,_200.0]_obs_ci_upper</td>\n",
       "    </tr>\n",
       "    <tr>\n",
       "      <th>(200.0, 459.0]</th>\n",
       "      <td>15.866572</td>\n",
       "      <td>4.477126</td>\n",
       "      <td>37.806383</td>\n",
       "      <td>TVC_(200.0,_420.0]_mean</td>\n",
       "      <td>TVC_(200.0,_420.0]_obs_ci_lower</td>\n",
       "      <td>TVC_(200.0,_420.0]_obs_ci_upper</td>\n",
       "    </tr>\n",
       "    <tr>\n",
       "      <th>(0.0, 459.0]</th>\n",
       "      <td>614.428377</td>\n",
       "      <td>258.262330</td>\n",
       "      <td>921.853798</td>\n",
       "      <td>Total_Volume_Concentration_[ppm]_mean</td>\n",
       "      <td>Total_Volume_Concentration_[ppm]_obs_ci_lower</td>\n",
       "      <td>Total_Volume_Concentration_[ppm]_obs_ci_upper</td>\n",
       "    </tr>\n",
       "  </tbody>\n",
       "</table>\n",
       "</div>"
      ],
      "text/plain": [
       "                      rho_a     rho_a_li     rho_a_ui  \\\n",
       "Assemblage                                              \n",
       "(0.0, 3.0]      2328.658630  1000.332554  3174.833405   \n",
       "(3.0, 20.0]      757.798133   318.871040  1213.433144   \n",
       "(20.0, 200.0]     93.086999    31.924500   183.024290   \n",
       "(200.0, 459.0]    15.866572     4.477126    37.806383   \n",
       "(0.0, 459.0]     614.428377   258.262330   921.853798   \n",
       "\n",
       "                                            SPMC_mean  \\\n",
       "Assemblage                                              \n",
       "(0.0, 3.0]                        TVC_(0.0,_3.0]_mean   \n",
       "(3.0, 20.0]                      TVC_(3.0,_20.0]_mean   \n",
       "(20.0, 200.0]                  TVC_(20.0,_200.0]_mean   \n",
       "(200.0, 459.0]                TVC_(200.0,_420.0]_mean   \n",
       "(0.0, 459.0]    Total_Volume_Concentration_[ppm]_mean   \n",
       "\n",
       "                                                SPMC_ci_lower  \\\n",
       "Assemblage                                                      \n",
       "(0.0, 3.0]                        TVC_(0.0,_3.0]_obs_ci_lower   \n",
       "(3.0, 20.0]                      TVC_(3.0,_20.0]_obs_ci_lower   \n",
       "(20.0, 200.0]                  TVC_(20.0,_200.0]_obs_ci_lower   \n",
       "(200.0, 459.0]                TVC_(200.0,_420.0]_obs_ci_lower   \n",
       "(0.0, 459.0]    Total_Volume_Concentration_[ppm]_obs_ci_lower   \n",
       "\n",
       "                                                SPMC_ci_upper  \n",
       "Assemblage                                                     \n",
       "(0.0, 3.0]                        TVC_(0.0,_3.0]_obs_ci_upper  \n",
       "(3.0, 20.0]                      TVC_(3.0,_20.0]_obs_ci_upper  \n",
       "(20.0, 200.0]                  TVC_(20.0,_200.0]_obs_ci_upper  \n",
       "(200.0, 459.0]                TVC_(200.0,_420.0]_obs_ci_upper  \n",
       "(0.0, 459.0]    Total_Volume_Concentration_[ppm]_obs_ci_upper  "
      ]
     },
     "execution_count": 6,
     "metadata": {},
     "output_type": "execute_result"
    }
   ],
   "source": [
    "apparent_densities = apparent_densities.merge(variable_schema, left_index=True, right_index=True, how = 'outer')\n",
    "apparent_densities"
   ]
  },
  {
   "cell_type": "markdown",
   "id": "1bbfe098-b990-4247-bc6c-659ee91ccfcf",
   "metadata": {},
   "source": [
    "# Calculate the SPMC for the different grain size populations\n",
    "This is done by multiplying apparent density (in g/cm3) with TVC (in ul/l). Dividing by 1000 gives the SPMC in kg/m3.\n",
    "\n",
    "The SPMC grids are then written to a netCDF file."
   ]
  },
  {
   "cell_type": "code",
   "execution_count": 7,
   "id": "a213ef85-a149-4b22-903a-d697621b6857",
   "metadata": {},
   "outputs": [
    {
     "name": "stdout",
     "output_type": "stream",
     "text": [
      "Wall time: 4min 11s\n"
     ]
    }
   ],
   "source": [
    "%%time\n",
    "for raster_file in raster_files:\n",
    "    # read the raster and it's data variables\n",
    "    raster = xr.open_dataset(raster_file)\n",
    "    data_vars = list(raster.data_vars)\n",
    "    data_vars.remove('spatial_ref')\n",
    "    for var in data_vars:\n",
    "        # if the var matches a SPMC_mean colun, multiply with rho_a\n",
    "        match = apparent_densities[apparent_densities.SPMC_mean == var]\n",
    "        if len(match) != 0:\n",
    "            assemblage = match.index.str.replace(' ','_')[0]\n",
    "            raster[f'SPMC_{assemblage}_mean'] = raster[var] *match['rho_a'].values[0]/1000\n",
    "        # if the var matches a SPMC_ci_lower column, multiply with rho_a_li\n",
    "        match = apparent_densities[apparent_densities.SPMC_ci_lower == var]\n",
    "        if len(match) != 0:\n",
    "            assemblage = match.index.str.replace(' ','_')[0]\n",
    "            raster[f'SPMC_{assemblage}_ci_lower'] = raster[var] * match['rho_a_li'].values[0]/1000\n",
    "        # if the var matches a SPMC_ci_upper column, multiply with rho_a_ui\n",
    "        match = apparent_densities[apparent_densities.SPMC_ci_upper == var]\n",
    "        if len(match) != 0:\n",
    "            assemblage = match.index.str.replace(' ','_')[0]\n",
    "            raster[f'SPMC_{assemblage}_ci_upper'] = raster[var] *match['rho_a_ui'].values[0]/1000\n",
    "        # remove the original variable\n",
    "        raster = raster.drop_vars(var)\n",
    "    # write the resulting raster to a file\n",
    "    file_path = os.path.dirname(raster_file)\n",
    "    file_name = f'{os.path.split(file_path)[-1]}_SPMC_{assemblage}.nc'\n",
    "    raster.to_netcdf(os.path.join(file_path, file_name))"
   ]
  }
 ],
 "metadata": {
  "kernelspec": {
   "display_name": "pcp-env2",
   "language": "python",
   "name": "python3"
  },
  "language_info": {
   "codemirror_mode": {
    "name": "ipython",
    "version": 3
   },
   "file_extension": ".py",
   "mimetype": "text/x-python",
   "name": "python",
   "nbconvert_exporter": "python",
   "pygments_lexer": "ipython3",
   "version": "3.9.7"
  },
  "vscode": {
   "interpreter": {
    "hash": "bfbba0520bba5db8d0b67600201a76128af681101e25bae349f2447023d45a53"
   }
  }
 },
 "nbformat": 4,
 "nbformat_minor": 5
}
