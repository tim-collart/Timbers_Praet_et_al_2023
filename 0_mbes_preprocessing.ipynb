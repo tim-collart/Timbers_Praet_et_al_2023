{
 "cells": [
  {
   "attachments": {},
   "cell_type": "markdown",
   "metadata": {},
   "source": [
    "# Pre-process the water column data\n",
    "This notebook executes following steps:\n",
    "* Read ASCII files exported from Sonarscope \n",
    "* Pre-process the data:\n",
    "    * Format columns to to match Entwine header\n",
    "    * Remove points with missing values\n",
    "    * Crop data points to Belgian EEZ to remove spatial outliers\n",
    "    * Calculate RGBA values for visualization of data in Potree viewer\n",
    "* Export to CSV files for ingestion into Entwine"
   ]
  },
  {
   "cell_type": "code",
   "execution_count": 1,
   "metadata": {},
   "outputs": [],
   "source": [
    "import dask\n",
    "from dask.distributed import Client\n",
    "from timbers_code.mbes_preprocessing import preprocess_mbes_file\n",
    "from timbers_code.utils import get_bbox_fom_marineregions\n",
    "import pandas as pd"
   ]
  },
  {
   "attachments": {},
   "cell_type": "markdown",
   "metadata": {},
   "source": [
    "## Set up dask client\n",
    "You can check the status in the dask dashboard"
   ]
  },
  {
   "cell_type": "code",
   "execution_count": 2,
   "metadata": {},
   "outputs": [
    {
     "data": {
      "text/html": [
       "<table style=\"border: 2px solid white;\">\n",
       "<tr>\n",
       "<td style=\"vertical-align: top; border: 0px solid white\">\n",
       "<h3 style=\"text-align: left;\">Client</h3>\n",
       "<ul style=\"text-align: left; list-style: none; margin: 0; padding: 0;\">\n",
       "  <li><b>Scheduler: </b>tcp://127.0.0.1:49714</li>\n",
       "  <li><b>Dashboard: </b><a href='http://127.0.0.1:8787/status' target='_blank'>http://127.0.0.1:8787/status</a></li>\n",
       "</ul>\n",
       "</td>\n",
       "<td style=\"vertical-align: top; border: 0px solid white\">\n",
       "<h3 style=\"text-align: left;\">Cluster</h3>\n",
       "<ul style=\"text-align: left; list-style:none; margin: 0; padding: 0;\">\n",
       "  <li><b>Workers: </b>4</li>\n",
       "  <li><b>Cores: </b>12</li>\n",
       "  <li><b>Memory: </b>16.98 GB</li>\n",
       "</ul>\n",
       "</td>\n",
       "</tr>\n",
       "</table>"
      ],
      "text/plain": [
       "<Client: 'tcp://127.0.0.1:49714' processes=4 threads=12, memory=16.98 GB>"
      ]
     },
     "execution_count": 2,
     "metadata": {},
     "output_type": "execute_result"
    }
   ],
   "source": [
    "client = Client()\n",
    "client"
   ]
  },
  {
   "attachments": {},
   "cell_type": "markdown",
   "metadata": {},
   "source": [
    "## Set the input parameters\n",
    "* index: csv file with input and output file paths for each survey line. MBES Data available on request.\n",
    "* columns_map: mapping of Sonarscope header to Entwine header\n",
    "* row_count_file: output path for csv files with rowcounts of each input file"
   ]
  },
  {
   "cell_type": "code",
   "execution_count": 3,
   "metadata": {},
   "outputs": [
    {
     "data": {
      "text/html": [
       "<div>\n",
       "<style scoped>\n",
       "    .dataframe tbody tr th:only-of-type {\n",
       "        vertical-align: middle;\n",
       "    }\n",
       "\n",
       "    .dataframe tbody tr th {\n",
       "        vertical-align: top;\n",
       "    }\n",
       "\n",
       "    .dataframe thead th {\n",
       "        text-align: right;\n",
       "    }\n",
       "</style>\n",
       "<table border=\"1\" class=\"dataframe\">\n",
       "  <thead>\n",
       "    <tr style=\"text-align: right;\">\n",
       "      <th></th>\n",
       "      <th>SurveyLines</th>\n",
       "      <th>input_path</th>\n",
       "      <th>output_path</th>\n",
       "    </tr>\n",
       "  </thead>\n",
       "  <tbody>\n",
       "    <tr>\n",
       "      <th>18</th>\n",
       "      <td>Line0026_0095_6565_21092</td>\n",
       "      <td>F:/VLIZ/TimbersWCdata_ALL/ASCII_Export_2021020...</td>\n",
       "      <td>data/tmp/20210204_VLIZ_TIMBERS/0026_20210204_1...</td>\n",
       "    </tr>\n",
       "    <tr>\n",
       "      <th>19</th>\n",
       "      <td>Line0027_0095_6565_21092</td>\n",
       "      <td>F:/VLIZ/TimbersWCdata_ALL/ASCII_Export_2021020...</td>\n",
       "      <td>data/tmp/20210204_VLIZ_TIMBERS/0027_20210204_1...</td>\n",
       "    </tr>\n",
       "    <tr>\n",
       "      <th>20</th>\n",
       "      <td>Line0029_0095_6565_21092</td>\n",
       "      <td>F:/VLIZ/TimbersWCdata_ALL/ASCII_Export_2021020...</td>\n",
       "      <td>data/tmp/20210204_VLIZ_TIMBERS/0029_20210204_1...</td>\n",
       "    </tr>\n",
       "    <tr>\n",
       "      <th>21</th>\n",
       "      <td>Line0030_0095_6565_21092</td>\n",
       "      <td>F:/VLIZ/TimbersWCdata_ALL/ASCII_Export_2021020...</td>\n",
       "      <td>data/tmp/20210204_VLIZ_TIMBERS/0030_20210204_1...</td>\n",
       "    </tr>\n",
       "  </tbody>\n",
       "</table>\n",
       "</div>"
      ],
      "text/plain": [
       "                 SurveyLines  \\\n",
       "18  Line0026_0095_6565_21092   \n",
       "19  Line0027_0095_6565_21092   \n",
       "20  Line0029_0095_6565_21092   \n",
       "21  Line0030_0095_6565_21092   \n",
       "\n",
       "                                           input_path  \\\n",
       "18  F:/VLIZ/TimbersWCdata_ALL/ASCII_Export_2021020...   \n",
       "19  F:/VLIZ/TimbersWCdata_ALL/ASCII_Export_2021020...   \n",
       "20  F:/VLIZ/TimbersWCdata_ALL/ASCII_Export_2021020...   \n",
       "21  F:/VLIZ/TimbersWCdata_ALL/ASCII_Export_2021020...   \n",
       "\n",
       "                                          output_path  \n",
       "18  data/tmp/20210204_VLIZ_TIMBERS/0026_20210204_1...  \n",
       "19  data/tmp/20210204_VLIZ_TIMBERS/0027_20210204_1...  \n",
       "20  data/tmp/20210204_VLIZ_TIMBERS/0029_20210204_1...  \n",
       "21  data/tmp/20210204_VLIZ_TIMBERS/0030_20210204_1...  "
      ]
     },
     "execution_count": 3,
     "metadata": {},
     "output_type": "execute_result"
    }
   ],
   "source": [
    "index = pd.read_csv('index_mbes/Input_Output_21092.csv').iloc[18:,:]\n",
    "columns_map = {'Lon':'X','Lat':'Y','Depth':'Z','Value': 'value_db'}\n",
    "row_count_file = 'index_mbes/row_counts_21092.csv'\n",
    "index"
   ]
  },
  {
   "attachments": {},
   "cell_type": "markdown",
   "metadata": {},
   "source": [
    "## Get a cropping box from marine regions in the CRS of the point data\n",
    "mrgid 3293 corresponds to the Belgian EEZ (http://marineregions.org/mrgid/3293)"
   ]
  },
  {
   "cell_type": "code",
   "execution_count": 4,
   "metadata": {},
   "outputs": [
    {
     "data": {
      "text/plain": [
       "(2.23833, 51.08931, 3.3704, 51.87611)"
      ]
     },
     "execution_count": 4,
     "metadata": {},
     "output_type": "execute_result"
    }
   ],
   "source": [
    "bbox = get_bbox_fom_marineregions(mrgid=3293, srs = \"EPSG:4326\")\n",
    "bbox"
   ]
  },
  {
   "attachments": {},
   "cell_type": "markdown",
   "metadata": {},
   "source": [
    "## Run the pre-processing"
   ]
  },
  {
   "cell_type": "code",
   "execution_count": 5,
   "metadata": {},
   "outputs": [],
   "source": [
    "tasks = []\n",
    "for input_path, output_path in index[['input_path','output_path']].itertuples(index=False):\n",
    "    task = dask.delayed(preprocess_mbes_file)(raw_file_path=input_path,\n",
    "                                              processed_file_path=output_path,\n",
    "                                              columns_map = columns_map,\n",
    "                                              crop_bbox = bbox)\n",
    "    tasks.append(task)"
   ]
  },
  {
   "cell_type": "code",
   "execution_count": 6,
   "metadata": {},
   "outputs": [
    {
     "name": "stdout",
     "output_type": "stream",
     "text": [
      "Wall time: 3h 42min 13s\n"
     ]
    }
   ],
   "source": [
    "%%time\n",
    "results = dask.compute(*tasks)"
   ]
  },
  {
   "attachments": {},
   "cell_type": "markdown",
   "metadata": {},
   "source": [
    "## Save the output with row counts"
   ]
  },
  {
   "cell_type": "code",
   "execution_count": 7,
   "metadata": {},
   "outputs": [],
   "source": [
    "pd.DataFrame(results).to_csv(row_count_file,index=False)"
   ]
  }
 ],
 "metadata": {
  "kernelspec": {
   "display_name": "Python 3 (ipykernel)",
   "language": "python",
   "name": "python3"
  },
  "language_info": {
   "codemirror_mode": {
    "name": "ipython",
    "version": 3
   },
   "file_extension": ".py",
   "mimetype": "text/x-python",
   "name": "python",
   "nbconvert_exporter": "python",
   "pygments_lexer": "ipython3",
   "version": "3.9.7"
  }
 },
 "nbformat": 4,
 "nbformat_minor": 4
}
