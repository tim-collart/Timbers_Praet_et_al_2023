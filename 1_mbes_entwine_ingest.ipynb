{
 "cells": [
  {
   "attachments": {},
   "cell_type": "markdown",
   "metadata": {},
   "source": [
    "# Ingest CSV files in entwine\n",
    "This notebook was run for each dataset (defined by the input path) and executes following steps:\n",
    "* Ingest the pre-processed water column data files into entwine point tiles (EPT) which are octtree data structures that allow for fast location querying of the data.\n",
    "* Optionally visualizes the ingested dataset in Potree Viewer."
   ]
  },
  {
   "attachments": {},
   "cell_type": "markdown",
   "metadata": {},
   "source": [
    "## Set the input parameters\n",
    "* input_path: the folder where all preprocessed files to be ingested are located. MBES Data available on request.\n",
    "* entwine_path: the folder to where the entwine point tiles need to be written. MBES Data available on request.\n",
    "* in_srs:  EPSG code of the Coordinate Reference System of the original point data (see https://epsg.io)\n",
    "* out_srs: EPSG code of the Coordinate Reference System of the entwine point tiles (see https://epsg.io)"
   ]
  },
  {
   "cell_type": "code",
   "execution_count": 1,
   "metadata": {},
   "outputs": [],
   "source": [
    "input_path = 'data/tmp/20210204_VLIZ_TIMBERS'\n",
    "entwine_path = 'Multiingest_0095_6565_21092'\n",
    "in_srs = \"EPSG:4326\"\n",
    "out_srs =  \"EPSG:32631\""
   ]
  },
  {
   "attachments": {},
   "cell_type": "markdown",
   "metadata": {},
   "source": [
    "Create folders if they don't exist"
   ]
  },
  {
   "cell_type": "code",
   "execution_count": 2,
   "metadata": {},
   "outputs": [],
   "source": [
    "from timbers_code.utils import create_folder_if_absent\n",
    "create_folder_if_absent(entwine_path)"
   ]
  },
  {
   "attachments": {},
   "cell_type": "markdown",
   "metadata": {},
   "source": [
    "## Write an entwine configuration file\n",
    "\n",
    "Based on https://entwine.io/configuration.html.\n"
   ]
  },
  {
   "cell_type": "code",
   "execution_count": 3,
   "metadata": {},
   "outputs": [],
   "source": [
    "import json\n",
    "entwine_config_file = entwine_path +'/entwine_config_rgb.json'\n",
    "entwine_config = {\n",
    "    \"input\": input_path,\n",
    "    \"output\": entwine_path,\n",
    "    \"reprojection\": {\n",
    "        \"in\": in_srs,\n",
    "        \"out\": out_srs\n",
    "    },  \n",
    "    \"schema\": [\n",
    "        { \"name\": \"X\", \"type\": \"double\" },\n",
    "        { \"name\": \"Y\", \"type\": \"double\" },\n",
    "        { \"name\": \"Z\", \"type\": \"double\" }, #        { \"name\": \"GpsTime\", \"type\": \"double\" },   \n",
    "        { \"name\": \"value_db\", \"type\": \"double\" },\n",
    "        { \"name\": \"Red\", \"type\": \"uint8\" },\n",
    "        { \"name\": \"Green\", \"type\": \"uint8\" },\n",
    "        { \"name\": \"Blue\", \"type\": \"uint8\" },\n",
    "        { \"name\": \"Alpha\", \"type\": \"uint8\" }\n",
    "    ],\n",
    "    \"dataType\": \"binary\",\n",
    "    \"threads\": [12, 2]\n",
    "    \n",
    "}\n",
    "with open(entwine_config_file, 'w', encoding='utf-8') as f:\n",
    "    json.dump(entwine_config, f, ensure_ascii=False, indent=4)"
   ]
  },
  {
   "attachments": {},
   "cell_type": "markdown",
   "metadata": {},
   "source": [
    "## Run entwine build with the config file to ingest the data\n",
    "In case of multiple subsets, also run a merge on the entwine path"
   ]
  },
  {
   "cell_type": "code",
   "execution_count": null,
   "metadata": {},
   "outputs": [],
   "source": [
    "%%time\n",
    "!entwine build -c $entwine_config_file"
   ]
  },
  {
   "attachments": {},
   "cell_type": "markdown",
   "metadata": {},
   "source": [
    "## Visualize the data using Potree Viewer\n",
    "* Run following line in the anaconda prompt (pcp-env) `http-server data -p 8080 --cors` \n",
    "* Open a webpage at http://potree.entwine.io/data/view.html?r=http://localhost:8080 + path to entwine"
   ]
  }
 ],
 "metadata": {
  "kernelspec": {
   "display_name": "Python 3 (ipykernel)",
   "language": "python",
   "name": "python3"
  },
  "language_info": {
   "codemirror_mode": {
    "name": "ipython",
    "version": 3
   },
   "file_extension": ".py",
   "mimetype": "text/x-python",
   "name": "python",
   "nbconvert_exporter": "python",
   "pygments_lexer": "ipython3",
   "version": "3.9.7"
  }
 },
 "nbformat": 4,
 "nbformat_minor": 4
}
